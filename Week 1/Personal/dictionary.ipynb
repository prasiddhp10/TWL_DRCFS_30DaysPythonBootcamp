{
 "cells": [
  {
   "cell_type": "markdown",
   "metadata": {},
   "source": [
    "### Dictionary \n",
    "#### key -> value \n",
    "### Example \n",
    "#### Login System\n",
    "##### Dictionary is mutable"
   ]
  },
  {
   "cell_type": "code",
   "execution_count": 14,
   "metadata": {},
   "outputs": [
    {
     "name": "stdout",
     "output_type": "stream",
     "text": [
      "egg\n",
      "None\n"
     ]
    }
   ],
   "source": [
    "# username -> password dictionary \n",
    "user_pass = {'duck' : 'pond', 'chicken' : 'egg', 'random' : 'random'}\n",
    "\n",
    "\n",
    "# Accessing the value from dictionary \n",
    "# It throws KeyError if the key is not found\n",
    "print(user_pass['chicken'])\n",
    "\n",
    "# Accessing the value from dictionary (None Way)\n",
    "# It returns None if the key is not found\n",
    "print(user_pass.get('abc'))"
   ]
  },
  {
   "cell_type": "code",
   "execution_count": 24,
   "metadata": {},
   "outputs": [
    {
     "name": "stdout",
     "output_type": "stream",
     "text": [
      "lake\n",
      "None\n"
     ]
    }
   ],
   "source": [
    "# Replacing the value using key \n",
    "user_pass['duck'] = 'lake'\n",
    "print(user_pass.get('duck'))\n",
    "\n",
    "#Delete somehting from distionary \n",
    "user_pass.pop('duck')\n",
    "print(user_pass.get('duck'))"
   ]
  },
  {
   "cell_type": "code",
   "execution_count": 36,
   "metadata": {},
   "outputs": [
    {
     "name": "stdout",
     "output_type": "stream",
     "text": [
      "dict_items([('chicken', 'egg'), ('random', 'random'), ('sangeet', 'sangeet')])\n"
     ]
    }
   ],
   "source": [
    "# Converting dictionary to tuples\n",
    "print(user_pass.items())\n"
   ]
  },
  {
   "cell_type": "code",
   "execution_count": 29,
   "metadata": {},
   "outputs": [
    {
     "name": "stdout",
     "output_type": "stream",
     "text": [
      "('chicken', 'egg')\n",
      "('random', 'random')\n",
      "dict_values(['egg', 'random'])\n",
      "dict_keys(['chicken', 'random'])\n"
     ]
    }
   ],
   "source": [
    "for user in user_pass.items():\n",
    "    print(user)\n",
    "\n",
    "print(user_pass.values())\n",
    "print(user_pass.keys())"
   ]
  },
  {
   "cell_type": "code",
   "execution_count": 34,
   "metadata": {},
   "outputs": [],
   "source": [
    "# Add items to the dictionary \n",
    "user_pass['sangeet'] = 'sangeet'"
   ]
  },
  {
   "cell_type": "markdown",
   "metadata": {},
   "source": [
    "### Login System \n",
    "\n",
    "1. Take input from user, about their username and password\n",
    "2. Try to get their passwords from the dictionary \n",
    "3. If the password is None, user doesn't exist \n",
    "4. If the password matches with the password given by the user, say you are logged in\n",
    "    else say incorrect password."
   ]
  },
  {
   "cell_type": "code",
   "execution_count": 35,
   "metadata": {},
   "outputs": [
    {
     "name": "stdout",
     "output_type": "stream",
     "text": [
      "You are logged in. \n"
     ]
    }
   ],
   "source": [
    "# Login System \n",
    "\n",
    "username = input('What is your username? ')\n",
    "input_password = input('What is your password? ')\n",
    "\n",
    "real_password = user_pass.get(username)\n",
    "\n",
    "if real_password is None: \n",
    "    print('User doesnt exist')\n",
    "elif real_password == input_password: \n",
    "    print('You are logged in. ')\n",
    "else: \n",
    "    print('Incorrect password')"
   ]
  },
  {
   "cell_type": "code",
   "execution_count": 37,
   "metadata": {},
   "outputs": [
    {
     "name": "stdout",
     "output_type": "stream",
     "text": [
      "True\n"
     ]
    }
   ],
   "source": [
    "a = {'abc' : 'def'}\n",
    "b = {'abc' : 'def'}\n",
    "print(a==b)"
   ]
  },
  {
   "cell_type": "code",
   "execution_count": null,
   "metadata": {},
   "outputs": [],
   "source": [
    "todo_list = {\n",
    "    'sangeet' : [\n",
    "        'eat food', \n",
    "        'read'\n",
    "    ]\n",
    "}"
   ]
  },
  {
   "cell_type": "code",
   "execution_count": 38,
   "metadata": {},
   "outputs": [],
   "source": [
    "# Two dimensional list \n",
    "a = [\n",
    "    [1,2,3],\n",
    "    [2,3,4]\n",
    "]"
   ]
  }
 ],
 "metadata": {
  "kernelspec": {
   "display_name": "Python 3.10.8 64-bit (microsoft store)",
   "language": "python",
   "name": "python3"
  },
  "language_info": {
   "codemirror_mode": {
    "name": "ipython",
    "version": 3
   },
   "file_extension": ".py",
   "mimetype": "text/x-python",
   "name": "python",
   "nbconvert_exporter": "python",
   "pygments_lexer": "ipython3",
   "version": "3.10.9"
  },
  "orig_nbformat": 4,
  "vscode": {
   "interpreter": {
    "hash": "ad5b5d58976a265f9a0ee1ab9840dc0f8e4a9e1961e23daecadd3570a78e84b3"
   }
  }
 },
 "nbformat": 4,
 "nbformat_minor": 2
}
