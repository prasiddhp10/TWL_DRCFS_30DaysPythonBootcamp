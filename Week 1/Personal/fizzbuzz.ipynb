{
 "cells": [
  {
   "cell_type": "markdown",
   "metadata": {},
   "source": [
    "## Fizzbuzz program "
   ]
  },
  {
   "cell_type": "code",
   "execution_count": null,
   "metadata": {},
   "outputs": [
    {
     "ename": "",
     "evalue": "",
     "output_type": "error",
     "traceback": [
      "\u001b[1;31mFailed to start the Kernel. \n",
      "\u001b[1;31mFailed to start the Kernel 'Python 3.10.8'. \n",
      "\u001b[1;31mView Jupyter <a href='command:jupyter.viewOutput'>log</a> for further details. No matching bindings found for serviceIdentifier: Symbol(IInterpreterAutoSelectionService)"
     ]
    }
   ],
   "source": [
    "for i in range(1,21): \n",
    "    if i % 3 == 0 and i % 5 == 0: \n",
    "        print(\"fizz buzz\")\n",
    "    elif i % 3 == 0: \n",
    "        print(\"fizz\")\n",
    "    elif i % 5 == 0:\n",
    "        print(\"buzz\")\n",
    "    else: \n",
    "        print(i)"
   ]
  }
 ],
 "metadata": {
  "kernelspec": {
   "display_name": "Python 3.10.8 64-bit (microsoft store)",
   "language": "python",
   "name": "python3"
  },
  "language_info": {
   "codemirror_mode": {
    "name": "ipython",
    "version": 3
   },
   "file_extension": ".py",
   "mimetype": "text/x-python",
   "name": "python",
   "nbconvert_exporter": "python",
   "pygments_lexer": "ipython3",
   "version": "3.10.8"
  },
  "orig_nbformat": 4,
  "vscode": {
   "interpreter": {
    "hash": "ad5b5d58976a265f9a0ee1ab9840dc0f8e4a9e1961e23daecadd3570a78e84b3"
   }
  }
 },
 "nbformat": 4,
 "nbformat_minor": 2
}
