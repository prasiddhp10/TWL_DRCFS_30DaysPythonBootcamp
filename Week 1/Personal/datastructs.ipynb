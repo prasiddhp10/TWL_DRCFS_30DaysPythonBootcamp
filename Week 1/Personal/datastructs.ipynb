{
 "cells": [
  {
   "cell_type": "markdown",
   "metadata": {},
   "source": [
    "### List and Tuples"
   ]
  },
  {
   "cell_type": "markdown",
   "metadata": {},
   "source": [
    " \n",
    "###### Method\tDescription\n",
    "###### append() : \tAdds an element at the end of the list\n",
    "###### clear()\t: Removes all the elements from the list\n",
    "###### copy()\t: Returns a copy of the list\n",
    "###### count()\t: Returns the number of elements with the specified value\n",
    "###### extend()\t: Add the elements of a list (or any iterable), to the end of the current list\n",
    "###### index()\t: Returns the index of the first element with the specified value\n",
    "###### insert()\t: Adds an element at the specified position\n",
    "###### pop()\t: Removes the element at the specified position\n",
    "###### remove()\t: Removes the first\n",
    "###### remove()\t: Removes the first item with the specified value\n",
    "###### reverse() : \tReverses the order of the list\n",
    "###### sort()\t: Sorts the list"
   ]
  },
  {
   "cell_type": "code",
   "execution_count": 23,
   "metadata": {},
   "outputs": [
    {
     "name": "stdout",
     "output_type": "stream",
     "text": [
      "Ashim\n"
     ]
    }
   ],
   "source": [
    "# LIST \n",
    "mentor_names = ['Ashim', 'Anuj', 'Samrid', 'Bishal', 'Saugat', 'Utsav', 'Hari']\n",
    "print(mentor_names[0])"
   ]
  },
  {
   "cell_type": "code",
   "execution_count": 24,
   "metadata": {},
   "outputs": [
    {
     "name": "stdout",
     "output_type": "stream",
     "text": [
      "Ashim  Anuj  Samrid  Bishal  Saugat  Utsav  Hari  "
     ]
    }
   ],
   "source": [
    "for mentor in mentor_names: \n",
    "    print(mentor, \" \" , end='')"
   ]
  },
  {
   "cell_type": "code",
   "execution_count": 25,
   "metadata": {},
   "outputs": [
    {
     "name": "stdout",
     "output_type": "stream",
     "text": [
      "['Ashim', 'Anuj', 'Samrid', 'Bishal', 'Saugat', 'Utsav', 'Hari', 'Name']\n"
     ]
    }
   ],
   "source": [
    "# Add something to list\n",
    "mentor_names.append('Name')\n",
    "print(mentor_names)"
   ]
  },
  {
   "cell_type": "code",
   "execution_count": 26,
   "metadata": {},
   "outputs": [
    {
     "name": "stdout",
     "output_type": "stream",
     "text": [
      "['Anuj', 'Samrid', 'Bishal', 'Saugat', 'Utsav', 'Hari', 'Name']\n"
     ]
    }
   ],
   "source": [
    "# Remove something from list\n",
    "mentor_names.pop(0)\n",
    "print(mentor_names)"
   ]
  },
  {
   "cell_type": "code",
   "execution_count": 27,
   "metadata": {},
   "outputs": [
    {
     "name": "stdout",
     "output_type": "stream",
     "text": [
      "['Ashim', 'Anuj', 'Samrid', 'Bishal', 'Saugat', 'Utsav', 'Hari', 'Name']\n"
     ]
    }
   ],
   "source": [
    "# Insert into specific index\n",
    "mentor_names.insert(0, 'Ashim')\n",
    "print(mentor_names)"
   ]
  },
  {
   "cell_type": "markdown",
   "metadata": {},
   "source": [
    "#### List vs tuple\n",
    "###### List: \n",
    "###### 1. Initialization -> []\n",
    "###### 2. Mutable\n",
    "\n",
    "###### Tuple \n",
    "###### 1. Initialization -> ('Something'. 'something')\n",
    "###### 2. Immutable"
   ]
  },
  {
   "cell_type": "code",
   "execution_count": 31,
   "metadata": {},
   "outputs": [
    {
     "name": "stdout",
     "output_type": "stream",
     "text": [
      "red\n",
      "violet\n",
      "green\n",
      "blue\n",
      "yellow\n",
      "indigo\n",
      "orange\n"
     ]
    }
   ],
   "source": [
    "rainbow_color = ('red', 'violet', 'green', 'blue', 'yellow', 'indigo', 'orange')\n",
    "for i in rainbow_color:\n",
    "    print(i)"
   ]
  },
  {
   "cell_type": "code",
   "execution_count": 33,
   "metadata": {},
   "outputs": [
    {
     "name": "stdout",
     "output_type": "stream",
     "text": [
      "0\n",
      "7\n"
     ]
    }
   ],
   "source": [
    "index = rainbow_color.index('red')\n",
    "print(index)\n",
    "\n",
    "#Length\n",
    "print(len(rainbow_color))"
   ]
  }
 ],
 "metadata": {
  "kernelspec": {
   "display_name": "Python 3.10.8 64-bit (microsoft store)",
   "language": "python",
   "name": "python3"
  },
  "language_info": {
   "codemirror_mode": {
    "name": "ipython",
    "version": 3
   },
   "file_extension": ".py",
   "mimetype": "text/x-python",
   "name": "python",
   "nbconvert_exporter": "python",
   "pygments_lexer": "ipython3",
   "version": "3.10.8"
  },
  "orig_nbformat": 4,
  "vscode": {
   "interpreter": {
    "hash": "ad5b5d58976a265f9a0ee1ab9840dc0f8e4a9e1961e23daecadd3570a78e84b3"
   }
  }
 },
 "nbformat": 4,
 "nbformat_minor": 2
}
