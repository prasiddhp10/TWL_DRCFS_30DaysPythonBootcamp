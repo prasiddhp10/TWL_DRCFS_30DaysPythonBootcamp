{
 "cells": [
  {
   "cell_type": "code",
   "execution_count": 8,
   "metadata": {},
   "outputs": [
    {
     "name": "stdout",
     "output_type": "stream",
     "text": [
      "Hello World\n"
     ]
    }
   ],
   "source": [
    "print(\"Hello World\") \n",
    "print(\"My name is prasidhda\")"
   ]
  },
  {
   "cell_type": "markdown",
   "metadata": {},
   "source": [
    "#### DATA TYPES IN PYTHON \n",
    "Int = integer\n",
    "Str = string \n",
    "Float = float\n",
    "None = Null \n",
    "Bool = Boolean (True, False)"
   ]
  },
  {
   "cell_type": "code",
   "execution_count": 15,
   "metadata": {},
   "outputs": [
    {
     "name": "stdout",
     "output_type": "stream",
     "text": [
      "Your name is Prasiddha Panta\n"
     ]
    }
   ],
   "source": [
    "person_name = str(input(\"What is your name? \"))\n",
    "print(\"Your name is \" + person_name)"
   ]
  },
  {
   "cell_type": "code",
   "execution_count": null,
   "metadata": {},
   "outputs": [],
   "source": [
    "number = 1 \n",
    "person = \"Prasiddha\""
   ]
  },
  {
   "cell_type": "code",
   "execution_count": 17,
   "metadata": {},
   "outputs": [
    {
     "name": "stdout",
     "output_type": "stream",
     "text": [
      "<class 'int'>\n",
      "1\n"
     ]
    }
   ],
   "source": [
    "integer = 1 \n",
    "print(type(integer))\n",
    "print(integer)"
   ]
  },
  {
   "cell_type": "code",
   "execution_count": 18,
   "metadata": {},
   "outputs": [
    {
     "name": "stdout",
     "output_type": "stream",
     "text": [
      "<class 'str'>\n",
      "Prasiddha\n"
     ]
    }
   ],
   "source": [
    "string = \"Prasiddha\"\n",
    "print(type(string))\n",
    "print(string)"
   ]
  },
  {
   "cell_type": "code",
   "execution_count": 19,
   "metadata": {},
   "outputs": [
    {
     "name": "stdout",
     "output_type": "stream",
     "text": [
      "<class 'float'>\n",
      "1.0\n"
     ]
    }
   ],
   "source": [
    "float = 1.0 \n",
    "print(type(float))\n",
    "print(float)"
   ]
  },
  {
   "cell_type": "code",
   "execution_count": 25,
   "metadata": {},
   "outputs": [
    {
     "name": "stdout",
     "output_type": "stream",
     "text": [
      "<class 'bool'>\n",
      "True\n"
     ]
    }
   ],
   "source": [
    "print(type(1 == 1))\n",
    "print(1 !=2 )"
   ]
  },
  {
   "cell_type": "code",
   "execution_count": 24,
   "metadata": {},
   "outputs": [
    {
     "name": "stdout",
     "output_type": "stream",
     "text": [
      "<class 'bool'>\n",
      "True\n"
     ]
    }
   ],
   "source": [
    "boolean = True\n",
    "print(type(boolean))\n",
    "print(boolean)"
   ]
  },
  {
   "cell_type": "code",
   "execution_count": 30,
   "metadata": {},
   "outputs": [
    {
     "name": "stdout",
     "output_type": "stream",
     "text": [
      "Your name is : Prasiddha\n",
      "Your age is : 20\n"
     ]
    }
   ],
   "source": [
    "person_age = int(input(\"What is your age? \"))\n",
    "person_n = str(input(\"What is your name? \"))\n",
    "print(\"Your name is : \" + person_n)\n",
    "print(\"Your age is :\" , person_age)"
   ]
  },
  {
   "cell_type": "markdown",
   "metadata": {},
   "source": [
    "## Control Flow Statements "
   ]
  },
  {
   "cell_type": "code",
   "execution_count": 4,
   "metadata": {},
   "outputs": [
    {
     "name": "stdout",
     "output_type": "stream",
     "text": [
      "You are eligible for license\n"
     ]
    }
   ],
   "source": [
    "#Driving License\n",
    "\n",
    "driver_age = int(input(\"Enter your age? \"))\n",
    "if driver_age >= 16: \n",
    "    print(\"You are eligible for license\")\n",
    "else: \n",
    "    print(\"You aren't eligibile for license\")"
   ]
  },
  {
   "cell_type": "code",
   "execution_count": 11,
   "metadata": {},
   "outputs": [
    {
     "name": "stdout",
     "output_type": "stream",
     "text": [
      "Welcome Ankur\n"
     ]
    }
   ],
   "source": [
    "username_one = str(input(\"Enter your username: \"))\n",
    "password_one = str(input(\"Enter your password: \"))\n",
    "if username_one == \"duck\" and password_one == \"passw0rd\": \n",
    "    print(\"Welcome Duck\")\n",
    "elif username_one == \"ankur\" or password_one == \"ankur123\":\n",
    "    print(\"Welcome Ankur\")\n",
    "else: \n",
    "    print(\"Invalid username or password\")"
   ]
  },
  {
   "cell_type": "markdown",
   "metadata": {},
   "source": [
    "## Looping Statement"
   ]
  },
  {
   "cell_type": "code",
   "execution_count": 22,
   "metadata": {},
   "outputs": [
    {
     "name": "stdout",
     "output_type": "stream",
     "text": [
      "HelloPrasiddhahopefully you are enjoying this session.\n",
      "Hellohopefully you are enjoying this session.\n",
      "Hellohopefully you are enjoying this session.\n",
      "Hellohopefully you are enjoying this session.\n",
      "Hellohopefully you are enjoying this session.\n",
      "Hellohopefully you are enjoying this session.\n",
      "Hellohopefully you are enjoying this session.\n",
      "Hellohopefully you are enjoying this session.\n",
      "Hellohopefully you are enjoying this session.\n",
      "Hellohopefully you are enjoying this session.\n"
     ]
    }
   ],
   "source": [
    "for i in range(1,11): \n",
    "    user_name = str(input(\"Enter your name: \"))\n",
    "    print(\"Hello\" +  user_name  + \"hopefully you are enjoying this session.\")"
   ]
  },
  {
   "cell_type": "code",
   "execution_count": 18,
   "metadata": {},
   "outputs": [
    {
     "name": "stdout",
     "output_type": "stream",
     "text": [
      "0\n",
      "2\n",
      "4\n",
      "6\n",
      "8\n"
     ]
    }
   ],
   "source": [
    "for j in range(10): \n",
    "    if j % 2 == 0: \n",
    "        print(j) "
   ]
  }
 ],
 "metadata": {
  "kernelspec": {
   "display_name": "Python 3.10.8 64-bit (microsoft store)",
   "language": "python",
   "name": "python3"
  },
  "language_info": {
   "codemirror_mode": {
    "name": "ipython",
    "version": 3
   },
   "file_extension": ".py",
   "mimetype": "text/x-python",
   "name": "python",
   "nbconvert_exporter": "python",
   "pygments_lexer": "ipython3",
   "version": "3.10.8"
  },
  "orig_nbformat": 4,
  "vscode": {
   "interpreter": {
    "hash": "ad5b5d58976a265f9a0ee1ab9840dc0f8e4a9e1961e23daecadd3570a78e84b3"
   }
  }
 },
 "nbformat": 4,
 "nbformat_minor": 2
}
