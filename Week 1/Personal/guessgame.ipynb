{
 "cells": [
  {
   "cell_type": "markdown",
   "metadata": {},
   "source": [
    "### Guess game using for loop"
   ]
  },
  {
   "cell_type": "code",
   "execution_count": 5,
   "metadata": {},
   "outputs": [
    {
     "name": "stdout",
     "output_type": "stream",
     "text": [
      "Welcome to the game Mr / Mrs Prasiddha Panta\n",
      "Guess a higher number\n",
      "Correct answer in 2 tries\n",
      "The correct option is : 6\n"
     ]
    }
   ],
   "source": [
    "import random\n",
    "i = random.randint(0,10)\n",
    "player_name = str(input(\"Enter your name : \"))\n",
    "print(\"Welcome to the game Mr / Mrs \" +player_name)\n",
    "for k in range(5):\n",
    "    a = int(input(\"Enter a number below 10: \"))\n",
    "    if i == a: \n",
    "        print(f\"Correct answer in {k+1} tries\")\n",
    "        break\n",
    "    elif i < a: \n",
    "        print(\"Guess a lower number\")\n",
    "    else: \n",
    "        print(\"Guess a higher number\")\n",
    "\n",
    "print(f\"The correct option is : {i}\")"
   ]
  },
  {
   "cell_type": "markdown",
   "metadata": {},
   "source": [
    "### Guess game using While Loop"
   ]
  },
  {
   "cell_type": "code",
   "execution_count": 4,
   "metadata": {},
   "outputs": [
    {
     "name": "stdout",
     "output_type": "stream",
     "text": [
      "Welcome to the game Mr / Mrs Prasiddha Panta\n",
      "Take a lower guess\n",
      "Take a lower guess\n",
      "Take a lower guess\n",
      "Correct answer in 4 tries\n",
      "Correct guess is : 1\n"
     ]
    }
   ],
   "source": [
    "import random \n",
    "i = random.randint(1,10)\n",
    "user_name = str(input(\"Enter your name : \"))\n",
    "print(\"Welcome to the game Mr / Mrs \" +user_name)\n",
    "k = 1\n",
    "while k <= 5:\n",
    "    a = int(input(\"Enter a number N : \"))\n",
    "    if a == i: \n",
    "        print(f\"Correct answer in {k} tries\")\n",
    "        break\n",
    "    elif a < i: \n",
    "        print(\"Take a higher guess\")\n",
    "    else: \n",
    "        print(\"Take a lower guess\")\n",
    "    k = k + 1\n",
    "\n",
    "print(f\"Correct guess is : {i}\")"
   ]
  }
 ],
 "metadata": {
  "kernelspec": {
   "display_name": "Python 3.10.8 64-bit (microsoft store)",
   "language": "python",
   "name": "python3"
  },
  "language_info": {
   "codemirror_mode": {
    "name": "ipython",
    "version": 3
   },
   "file_extension": ".py",
   "mimetype": "text/x-python",
   "name": "python",
   "nbconvert_exporter": "python",
   "pygments_lexer": "ipython3",
   "version": "3.10.8"
  },
  "orig_nbformat": 4,
  "vscode": {
   "interpreter": {
    "hash": "ad5b5d58976a265f9a0ee1ab9840dc0f8e4a9e1961e23daecadd3570a78e84b3"
   }
  }
 },
 "nbformat": 4,
 "nbformat_minor": 2
}
